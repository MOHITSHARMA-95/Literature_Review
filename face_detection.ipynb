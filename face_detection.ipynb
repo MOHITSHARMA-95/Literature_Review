{
  "nbformat": 4,
  "nbformat_minor": 0,
  "metadata": {
    "colab": {
      "provenance": [],
      "gpuType": "T4",
      "include_colab_link": true
    },
    "kernelspec": {
      "name": "python3",
      "display_name": "Python 3"
    },
    "language_info": {
      "name": "python"
    },
    "accelerator": "GPU"
  },
  "cells": [
    {
      "cell_type": "markdown",
      "metadata": {
        "id": "view-in-github",
        "colab_type": "text"
      },
      "source": [
        "<a href=\"https://colab.research.google.com/github/MOHITSHARMA-95/Literature_Review/blob/main/face_detection.ipynb\" target=\"_parent\"><img src=\"https://colab.research.google.com/assets/colab-badge.svg\" alt=\"Open In Colab\"/></a>"
      ]
    },
    {
      "cell_type": "code",
      "execution_count": 1,
      "metadata": {
        "id": "UmGOAHJ6ceOd"
      },
      "outputs": [],
      "source": [
        "import tensorflow as tf\n",
        "from tensorflow.keras import layers, models\n",
        "from tensorflow.keras.preprocessing.image import ImageDataGenerator\n",
        "from tensorflow.keras.applications import VGG16"
      ]
    },
    {
      "cell_type": "code",
      "source": [
        "from google.colab import drive\n",
        "drive.mount('/content/drive')"
      ],
      "metadata": {
        "colab": {
          "base_uri": "https://localhost:8080/"
        },
        "id": "Hpe7UEeAxeNL",
        "outputId": "62c69d41-6c3e-494c-af28-922e3effe86c"
      },
      "execution_count": 2,
      "outputs": [
        {
          "output_type": "stream",
          "name": "stdout",
          "text": [
            "Mounted at /content/drive\n"
          ]
        }
      ]
    },
    {
      "cell_type": "code",
      "source": [
        "# Define constants\n",
        "IMAGE_SIZE = (224, 224)\n",
        "BATCH_SIZE = 32\n",
        "EPOCHS = 15\n",
        "\n",
        "# Download VGG16 model (pre-trained on ImageNet)\n",
        "base_model = VGG16(weights='imagenet', include_top=False, input_shape=(224, 224, 3))\n",
        "\n",
        "# Freeze the layers\n",
        "for layer in base_model.layers:\n",
        "    layer.trainable = False\n",
        "\n",
        "# Create the model on top of the pre-trained model\n",
        "model = models.Sequential()\n",
        "model.add(base_model)\n",
        "model.add(layers.Flatten())\n",
        "model.add(layers.Dense(256, activation='relu'))\n",
        "model.add(layers.Dropout(0.5))\n",
        "model.add(layers.Dense(1, activation='sigmoid'))\n",
        "\n",
        "# Compile the model\n",
        "model.compile(optimizer='adam', loss='binary_crossentropy', metrics=['accuracy'])\n",
        "\n",
        "# Define data generators for training and validation\n",
        "train_datagen = ImageDataGenerator(rescale=1./255, shear_range=0.2, zoom_range=0.2, horizontal_flip=True)\n",
        "test_datagen = ImageDataGenerator(rescale=1./255)\n",
        "\n",
        "train_generator = train_datagen.flow_from_directory('/content/drive/MyDrive/dqd_image/dataset/train_data', target_size=IMAGE_SIZE,\n",
        "                                                    batch_size=BATCH_SIZE, class_mode='binary')\n",
        "\n",
        "validation_generator = test_datagen.flow_from_directory('/content/drive/MyDrive/dqd_image/dataset/validation_data', target_size=IMAGE_SIZE,\n",
        "                                                        batch_size=BATCH_SIZE, class_mode='binary')\n",
        "\n",
        "# Train the model\n",
        "history = model.fit(train_generator, epochs=EPOCHS, validation_data=validation_generator)\n",
        "\n",
        "# Save the trained model\n",
        "model.save('/content/drive/MyDrive/dqd_dataset/gender_classification_model.h5')\n"
      ],
      "metadata": {
        "colab": {
          "base_uri": "https://localhost:8080/"
        },
        "id": "OHiDymuNg4Af",
        "outputId": "9339c3db-515e-4d10-ab7f-2b20fea9a37b"
      },
      "execution_count": 5,
      "outputs": [
        {
          "output_type": "stream",
          "name": "stdout",
          "text": [
            "Found 1047 images belonging to 2 classes.\n",
            "Found 322 images belonging to 2 classes.\n",
            "Epoch 1/15\n",
            "33/33 [==============================] - 20s 568ms/step - loss: 1.7100 - accuracy: 0.5673 - val_loss: 0.6894 - val_accuracy: 0.5839\n",
            "Epoch 2/15\n",
            "33/33 [==============================] - 18s 546ms/step - loss: 0.6230 - accuracy: 0.6562 - val_loss: 0.6057 - val_accuracy: 0.6863\n",
            "Epoch 3/15\n",
            "33/33 [==============================] - 18s 540ms/step - loss: 0.5895 - accuracy: 0.6810 - val_loss: 0.6125 - val_accuracy: 0.5963\n",
            "Epoch 4/15\n",
            "33/33 [==============================] - 19s 567ms/step - loss: 0.5674 - accuracy: 0.6963 - val_loss: 0.6014 - val_accuracy: 0.6242\n",
            "Epoch 5/15\n",
            "33/33 [==============================] - 18s 543ms/step - loss: 0.5170 - accuracy: 0.7345 - val_loss: 0.6094 - val_accuracy: 0.6087\n",
            "Epoch 6/15\n",
            "33/33 [==============================] - 19s 583ms/step - loss: 0.5262 - accuracy: 0.7345 - val_loss: 0.5725 - val_accuracy: 0.6894\n",
            "Epoch 7/15\n",
            "33/33 [==============================] - 18s 535ms/step - loss: 0.4731 - accuracy: 0.7775 - val_loss: 0.5753 - val_accuracy: 0.6894\n",
            "Epoch 8/15\n",
            "33/33 [==============================] - 19s 579ms/step - loss: 0.4662 - accuracy: 0.7593 - val_loss: 0.5700 - val_accuracy: 0.6832\n",
            "Epoch 9/15\n",
            "33/33 [==============================] - 18s 531ms/step - loss: 0.4555 - accuracy: 0.7870 - val_loss: 0.5867 - val_accuracy: 0.6522\n",
            "Epoch 10/15\n",
            "33/33 [==============================] - 18s 543ms/step - loss: 0.4309 - accuracy: 0.7880 - val_loss: 0.5701 - val_accuracy: 0.6832\n",
            "Epoch 11/15\n",
            "33/33 [==============================] - 19s 573ms/step - loss: 0.4216 - accuracy: 0.7975 - val_loss: 0.5717 - val_accuracy: 0.7174\n",
            "Epoch 12/15\n",
            "33/33 [==============================] - 18s 541ms/step - loss: 0.3750 - accuracy: 0.8271 - val_loss: 0.5733 - val_accuracy: 0.7267\n",
            "Epoch 13/15\n",
            "33/33 [==============================] - 18s 556ms/step - loss: 0.3892 - accuracy: 0.8176 - val_loss: 0.5769 - val_accuracy: 0.6925\n",
            "Epoch 14/15\n",
            "33/33 [==============================] - 18s 531ms/step - loss: 0.3705 - accuracy: 0.8434 - val_loss: 0.5886 - val_accuracy: 0.6957\n",
            "Epoch 15/15\n",
            "33/33 [==============================] - 18s 533ms/step - loss: 0.3468 - accuracy: 0.8453 - val_loss: 0.5965 - val_accuracy: 0.7019\n"
          ]
        }
      ]
    },
    {
      "cell_type": "code",
      "source": [
        "test_datagen = ImageDataGenerator(rescale=1./255)\n",
        "\n",
        "test_generator = test_datagen.flow_from_directory('/content/drive/MyDrive/dqd_image/dataset/test_data/', target_size=IMAGE_SIZE,\n",
        "                                                  batch_size=BATCH_SIZE, class_mode='binary', shuffle=False)\n",
        "\n",
        "# Evaluate the model on the test set\n",
        "evaluation = model.evaluate(test_generator)\n",
        "\n",
        "# Print the evaluation results\n",
        "print(f\"Test Accuracy: {evaluation[1]*100:.2f}%\")"
      ],
      "metadata": {
        "id": "02nvE6l5kLpQ",
        "colab": {
          "base_uri": "https://localhost:8080/"
        },
        "outputId": "957be1a1-f7a9-4045-d752-db61592875ea"
      },
      "execution_count": 6,
      "outputs": [
        {
          "output_type": "stream",
          "name": "stdout",
          "text": [
            "Found 242 images belonging to 2 classes.\n",
            "8/8 [==============================] - 1s 140ms/step - loss: 0.5413 - accuracy: 0.7107\n",
            "Test Accuracy: 71.07%\n"
          ]
        }
      ]
    },
    {
      "cell_type": "code",
      "source": [
        "male_datagen = ImageDataGenerator(rescale=1./255)\n",
        "\n",
        "male_generator = male_datagen.flow_from_directory('/content/drive/MyDrive/dqd_image/dataset/testmale/', target_size=IMAGE_SIZE,\n",
        "                                                  batch_size=BATCH_SIZE, class_mode='binary', shuffle=False)\n",
        "\n",
        "# Evaluate the model on the test set\n",
        "evaluation_m = model.evaluate(male_generator)\n",
        "\n",
        "# Print the evaluation results\n",
        "print(f\"Male Test Accuracy: {evaluation_m[1]*100:.2f}%\")"
      ],
      "metadata": {
        "colab": {
          "base_uri": "https://localhost:8080/"
        },
        "id": "OlcPtQDdS4Tv",
        "outputId": "9624b85d-e34a-4810-d70b-98793d8f02e4"
      },
      "execution_count": 7,
      "outputs": [
        {
          "output_type": "stream",
          "name": "stdout",
          "text": [
            "Found 105 images belonging to 2 classes.\n",
            "4/4 [==============================] - 3s 998ms/step - loss: 0.4391 - accuracy: 0.8476\n",
            "Male Test Accuracy: 84.76%\n"
          ]
        }
      ]
    },
    {
      "cell_type": "code",
      "source": [
        "female_datagen = ImageDataGenerator(rescale=1./255)\n",
        "\n",
        "female_generator = female_datagen.flow_from_directory('/content/drive/MyDrive/dqd_image/dataset/testfemale/', target_size=IMAGE_SIZE,\n",
        "                                                  batch_size=BATCH_SIZE, class_mode='binary', shuffle=False)\n",
        "\n",
        "# Evaluate the model on the test set\n",
        "evaluation_f = model.evaluate(female_generator)\n",
        "\n",
        "# Print the evaluation results\n",
        "print(f\"Female Test Accuracy: {evaluation_f[1]*100:.2f}%\")"
      ],
      "metadata": {
        "colab": {
          "base_uri": "https://localhost:8080/"
        },
        "id": "_kyYT2f9U_yH",
        "outputId": "c33dce4b-6ec8-4f47-89ca-7dcbc45e69b0"
      },
      "execution_count": 8,
      "outputs": [
        {
          "output_type": "stream",
          "name": "stdout",
          "text": [
            "Found 137 images belonging to 2 classes.\n",
            "5/5 [==============================] - 2s 331ms/step - loss: 0.6196 - accuracy: 0.6058\n",
            "Female Test Accuracy: 60.58%\n"
          ]
        }
      ]
    },
    {
      "cell_type": "code",
      "source": [],
      "metadata": {
        "id": "Hla3bZkyVLRi"
      },
      "execution_count": null,
      "outputs": []
    }
  ]
}